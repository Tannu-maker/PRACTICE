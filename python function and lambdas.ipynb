{
 "cells": [
  {
   "cell_type": "markdown",
   "id": "b4e568eb-fa9c-4987-8c39-9400a2e7f966",
   "metadata": {},
   "source": [
    "Question 1: Write a function to find the sum of all numbers in a list.\n"
   ]
  },
  {
   "cell_type": "code",
   "execution_count": 38,
   "id": "8ed79e7d-dfa3-42b9-ab01-b678521a56f1",
   "metadata": {},
   "outputs": [],
   "source": [
    "list=[1,2,3,4,5,6,7,8,8,9]\n",
    "def sum_of_list(numbers):\n",
    "    return sum(numbers)"
   ]
  },
  {
   "cell_type": "code",
   "execution_count": 39,
   "id": "8bd350b9-8435-40e9-b91e-35b6cc080baa",
   "metadata": {},
   "outputs": [
    {
     "data": {
      "text/plain": [
       "53"
      ]
     },
     "execution_count": 39,
     "metadata": {},
     "output_type": "execute_result"
    }
   ],
   "source": [
    "sum_of_list(list)"
   ]
  },
  {
   "cell_type": "markdown",
   "id": "16727e3c-5a09-4d89-9fe0-02597a591191",
   "metadata": {},
   "source": [
    "Question 2: Write a function to reverse a string."
   ]
  },
  {
   "cell_type": "code",
   "execution_count": 40,
   "id": "8094b851-2ec8-49ce-8bc4-29e1a18be375",
   "metadata": {},
   "outputs": [],
   "source": [
    "def reverse_string(str):\n",
    "    return str[::-1]"
   ]
  },
  {
   "cell_type": "code",
   "execution_count": 41,
   "id": "aca92340-551a-4cc2-a42e-21295d68adc4",
   "metadata": {},
   "outputs": [
    {
     "data": {
      "text/plain": [
       "'lapunnat'"
      ]
     },
     "execution_count": 41,
     "metadata": {},
     "output_type": "execute_result"
    }
   ],
   "source": [
    "reverse_string('tannupal')"
   ]
  },
  {
   "cell_type": "markdown",
   "id": "107b24ee-d11b-4960-9ca6-38df46b20228",
   "metadata": {},
   "source": [
    "Question 3: Write a function to check if a string is a palindrome.\n"
   ]
  },
  {
   "cell_type": "code",
   "execution_count": 42,
   "id": "d7f5d36f-9e07-49dd-8848-0d132acef714",
   "metadata": {},
   "outputs": [],
   "source": [
    "def is_palindrome(str):\n",
    "    str=str.lower().replace('  ','')\n",
    "    return str==str[::-1]\n",
    "    "
   ]
  },
  {
   "cell_type": "code",
   "execution_count": 44,
   "id": "db263c26-11db-4973-a721-93f265e8803c",
   "metadata": {},
   "outputs": [
    {
     "data": {
      "text/plain": [
       "True"
      ]
     },
     "execution_count": 44,
     "metadata": {},
     "output_type": "execute_result"
    }
   ],
   "source": [
    "is_palindrome('madam')"
   ]
  },
  {
   "cell_type": "markdown",
   "id": "7ca0647e-326d-4aeb-ba8d-5c69081ea60f",
   "metadata": {},
   "source": [
    "Question 4:Write a lambda function to check if a number is a multiple of both 3 and 5."
   ]
  },
  {
   "cell_type": "code",
   "execution_count": 57,
   "id": "72d5dfaf-adfa-4c9a-a5aa-44ff404ab9b0",
   "metadata": {},
   "outputs": [],
   "source": [
    "number_check=lambda x:x%3==0 and x%5==0"
   ]
  },
  {
   "cell_type": "code",
   "execution_count": 59,
   "id": "65ad4a79-8877-40a8-9ab0-329022b2dc40",
   "metadata": {},
   "outputs": [
    {
     "name": "stdout",
     "output_type": "stream",
     "text": [
      "False\n"
     ]
    }
   ],
   "source": [
    "number = 16\n",
    "print(number_check(number))"
   ]
  },
  {
   "cell_type": "code",
   "execution_count": 60,
   "id": "d960a043-e081-4110-9b15-2f62b1667adf",
   "metadata": {},
   "outputs": [
    {
     "name": "stdout",
     "output_type": "stream",
     "text": [
      "True\n"
     ]
    }
   ],
   "source": [
    "number = 15\n",
    "print(number_check(number))"
   ]
  },
  {
   "cell_type": "markdown",
   "id": "3499cd28-995d-403d-b01e-acf434358fc2",
   "metadata": {},
   "source": [
    "Question 5:Write a lambda function to reverse a string."
   ]
  },
  {
   "cell_type": "code",
   "execution_count": 61,
   "id": "e2293e0b-9ece-406e-8356-ab50550d23e3",
   "metadata": {},
   "outputs": [],
   "source": [
    "reverse_string=lambda  s:s[::-1]"
   ]
  },
  {
   "cell_type": "code",
   "execution_count": 62,
   "id": "ec703fb9-a82d-4a08-867a-412ef12f20b0",
   "metadata": {},
   "outputs": [
    {
     "name": "stdout",
     "output_type": "stream",
     "text": [
      "lapunnat\n"
     ]
    }
   ],
   "source": [
    "string = 'tannupal'\n",
    "print(reverse_string(string))"
   ]
  },
  {
   "cell_type": "markdown",
   "id": "24a3d782-76dd-40cd-9888-d04c182ec6be",
   "metadata": {},
   "source": [
    "Question 6:Write a lambda function to multiply two numbers"
   ]
  },
  {
   "cell_type": "code",
   "execution_count": 63,
   "id": "84a992c7-4358-4d7c-9654-70eab24c4994",
   "metadata": {},
   "outputs": [],
   "source": [
    "multiply_num=lambda x,y:x*y"
   ]
  },
  {
   "cell_type": "code",
   "execution_count": 66,
   "id": "1d3d17b4-6d97-4a12-8122-d0d4b02fed4d",
   "metadata": {},
   "outputs": [
    {
     "name": "stdout",
     "output_type": "stream",
     "text": [
      "6\n"
     ]
    }
   ],
   "source": [
    "x=2\n",
    "y=3\n",
    "print(multiply_num(x,y))"
   ]
  },
  {
   "cell_type": "markdown",
   "id": "c8bb6ae3-33bd-47aa-a990-fbea59bce688",
   "metadata": {},
   "source": [
    "Question 7:python maths operations on two input numbers."
   ]
  },
  {
   "cell_type": "code",
   "execution_count": 68,
   "id": "b5651365-2abf-4c29-8c2d-6dbfbc404522",
   "metadata": {},
   "outputs": [],
   "source": [
    "import math_operations"
   ]
  },
  {
   "cell_type": "markdown",
   "id": "439d6ce6-185b-40fb-87c9-8c5295d54ba4",
   "metadata": {},
   "source": [
    "1.add(a, b): Returns the sum of two numbers."
   ]
  },
  {
   "cell_type": "code",
   "execution_count": 72,
   "id": "3cbcd52c-95c7-4edf-8a37-3a571be57edf",
   "metadata": {},
   "outputs": [
    {
     "name": "stdin",
     "output_type": "stream",
     "text": [
      "enter the first number: 1\n",
      "enter the second number 2\n"
     ]
    },
    {
     "name": "stdout",
     "output_type": "stream",
     "text": [
      "3\n"
     ]
    }
   ],
   "source": [
    "x= int(input('enter the first number:'))\n",
    "y= int(input('enter the second number'))\n",
    "sum_result = math_operations.add(x,y)\n",
    "print(sum_result)"
   ]
  },
  {
   "cell_type": "markdown",
   "id": "542fa11b-74d2-4151-b3e0-98d22f45d129",
   "metadata": {},
   "source": [
    "2.subtract(a, b): Returns the difference between two numbers."
   ]
  },
  {
   "cell_type": "code",
   "execution_count": 80,
   "id": "3a9aefb5-462a-4791-b7cd-7889c8a5551e",
   "metadata": {},
   "outputs": [
    {
     "name": "stdin",
     "output_type": "stream",
     "text": [
      "enter the first number: 5\n",
      "enter the second number 3\n"
     ]
    },
    {
     "name": "stdout",
     "output_type": "stream",
     "text": [
      "2\n"
     ]
    }
   ],
   "source": [
    "x= int(input('enter the first number:'))\n",
    "y= int(input('enter the second number'))\n",
    "difference = math_operations.substract(x,y)\n",
    "print(difference)"
   ]
  },
  {
   "cell_type": "markdown",
   "id": "a576ff29-af31-4897-9b25-0e3a9ae0ead8",
   "metadata": {},
   "source": [
    "3. multiply(x,y): Returns the product of two numbers.\n"
   ]
  },
  {
   "cell_type": "code",
   "execution_count": null,
   "id": "27f4cd02-0fb8-41c7-9422-8a9712c6a663",
   "metadata": {},
   "outputs": [],
   "source": [
    "x= int(input('enter the first number:'))\n",
    "y= int(input('enter the second number'))\n",
    "multiply = math_operations.multiply(x,y)\n",
    "print(multiply)"
   ]
  },
  {
   "cell_type": "markdown",
   "id": "cda0edb8-eb4b-4298-aa0c-5e6faa1a2983",
   "metadata": {},
   "source": [
    "4.divide(a, b): Returns the quotient of two numbers (handle division by zero by returning a message: \"Cannot divide by zero\")."
   ]
  },
  {
   "cell_type": "code",
   "execution_count": 79,
   "id": "91ae3596-c395-42bd-8866-97ff4aa80a9b",
   "metadata": {},
   "outputs": [
    {
     "name": "stdin",
     "output_type": "stream",
     "text": [
      "enter the first number: 2\n",
      "enter the second number: 0\n"
     ]
    },
    {
     "name": "stdout",
     "output_type": "stream",
     "text": [
      "cannot divide by zero\n"
     ]
    }
   ],
   "source": [
    "def divide(a,b):\n",
    "    if b==0:\n",
    "        return 'cannot divide by zero'\n",
    "    else:\n",
    "        return a/b\n",
    "\n",
    "a=int(input('enter the first number:'))\n",
    "b=int(input('enter the second number:'))\n",
    "result = divide(a,b)\n",
    "print(result)"
   ]
  },
  {
   "cell_type": "code",
   "execution_count": null,
   "id": "7ebe7328-9a6f-4049-8d42-7234d4378000",
   "metadata": {},
   "outputs": [],
   "source": []
  },
  {
   "cell_type": "code",
   "execution_count": null,
   "id": "448d2b22-1a0a-44e1-aa8a-1bf315f57bb6",
   "metadata": {},
   "outputs": [],
   "source": []
  }
 ],
 "metadata": {
  "kernelspec": {
   "display_name": "Python 3 (ipykernel)",
   "language": "python",
   "name": "python3"
  },
  "language_info": {
   "codemirror_mode": {
    "name": "ipython",
    "version": 3
   },
   "file_extension": ".py",
   "mimetype": "text/x-python",
   "name": "python",
   "nbconvert_exporter": "python",
   "pygments_lexer": "ipython3",
   "version": "3.11.2"
  }
 },
 "nbformat": 4,
 "nbformat_minor": 5
}

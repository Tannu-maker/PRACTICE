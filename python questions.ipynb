{
 "cells": [
  {
   "cell_type": "code",
   "execution_count": null,
   "id": "74d30fd9-fe37-42ab-b800-ed7d2f6ac80d",
   "metadata": {},
   "outputs": [],
   "source": [
    "#Question 1:   \n",
    "#Counting Odd Numbers Write a program that continuously \n",
    "#takes input from the user until they enter a negative number.\n",
    "#The program should then print the count of all the odd numbers entered.\n"
   ]
  },
  {
   "cell_type": "code",
   "execution_count": 4,
   "id": "613ba419-40ba-4bb4-977c-64052543e1dd",
   "metadata": {},
   "outputs": [
    {
     "name": "stdin",
     "output_type": "stream",
     "text": [
      "enter a number(negative to quit:) -3\n"
     ]
    },
    {
     "name": "stdout",
     "output_type": "stream",
     "text": [
      "count of odd numbers entered:0\n"
     ]
    }
   ],
   "source": [
    " odd_count = 0\n",
    "while True:\n",
    "    num = int(input('enter a number(negative to quit:)'))\n",
    "    if num<0:\n",
    "        break\n",
    "    if num%2!=0:\n",
    "        odd_count+=1\n",
    "\n",
    "print(f'count of odd numbers entered:{odd_count}')"
   ]
  },
  {
   "cell_type": "code",
   "execution_count": null,
   "id": "e8cfa734-cd11-4832-aab7-7f27f77bff86",
   "metadata": {},
   "outputs": [],
   "source": [
    "#Question 2: Guessing Game Create a guessing game where the computer generates a random number between 1 and 100, and the player has to guess it. The game should provide feedback on whether the guess is too high or too low, and it should continue until the player guesses the correct number."
   ]
  },
  {
   "cell_type": "code",
   "execution_count": 5,
   "id": "1af2b959-7d78-45b9-a5ab-265b204c664e",
   "metadata": {},
   "outputs": [],
   "source": [
    "import random"
   ]
  },
  {
   "cell_type": "code",
   "execution_count": 7,
   "id": "24f639c3-eeb7-4fca-9561-858a4b5088fd",
   "metadata": {},
   "outputs": [
    {
     "name": "stdout",
     "output_type": "stream",
     "text": [
      "I have picked a number between 1 and 100.Try to guess it!\n"
     ]
    },
    {
     "name": "stdin",
     "output_type": "stream",
     "text": [
      "enter your guess: 49\n"
     ]
    },
    {
     "name": "stdout",
     "output_type": "stream",
     "text": [
      "Too low!\n"
     ]
    },
    {
     "name": "stdin",
     "output_type": "stream",
     "text": [
      "enter your guess: 45\n"
     ]
    },
    {
     "name": "stdout",
     "output_type": "stream",
     "text": [
      "Too low!\n"
     ]
    },
    {
     "name": "stdin",
     "output_type": "stream",
     "text": [
      "enter your guess: 78\n"
     ]
    },
    {
     "name": "stdout",
     "output_type": "stream",
     "text": [
      "Too high!\n"
     ]
    },
    {
     "name": "stdin",
     "output_type": "stream",
     "text": [
      "enter your guess: 60\n"
     ]
    },
    {
     "name": "stdout",
     "output_type": "stream",
     "text": [
      "Too high!\n"
     ]
    },
    {
     "name": "stdin",
     "output_type": "stream",
     "text": [
      "enter your guess: 50\n"
     ]
    },
    {
     "name": "stdout",
     "output_type": "stream",
     "text": [
      "Too low!\n"
     ]
    },
    {
     "name": "stdin",
     "output_type": "stream",
     "text": [
      "enter your guess: 55\n"
     ]
    },
    {
     "name": "stdout",
     "output_type": "stream",
     "text": [
      "Too high!\n"
     ]
    },
    {
     "name": "stdin",
     "output_type": "stream",
     "text": [
      "enter your guess: 54\n"
     ]
    },
    {
     "name": "stdout",
     "output_type": "stream",
     "text": [
      "Too high!\n"
     ]
    },
    {
     "name": "stdin",
     "output_type": "stream",
     "text": [
      "enter your guess: 53\n"
     ]
    },
    {
     "name": "stdout",
     "output_type": "stream",
     "text": [
      "Too high!\n"
     ]
    },
    {
     "name": "stdin",
     "output_type": "stream",
     "text": [
      "enter your guess: 52\n"
     ]
    },
    {
     "name": "stdout",
     "output_type": "stream",
     "text": [
      "Congratulations! you guessed the number.\n"
     ]
    }
   ],
   "source": [
    "target= random.randint(1,100)\n",
    "print('I have picked a number between 1 and 100.Try to guess it!')\n",
    "while True:\n",
    "    guess= int(input('enter your guess:'))\n",
    "    if guess<target:\n",
    "        print('Too low!')\n",
    "    elif guess>target:\n",
    "        print('Too high!')\n",
    "    else:\n",
    "        print('Congratulations! you guessed the number.')\n",
    "        break"
   ]
  },
  {
   "cell_type": "code",
   "execution_count": null,
   "id": "52af008c-28b7-4b47-b790-7ec03a952139",
   "metadata": {},
   "outputs": [],
   "source": [
    "#Question 3: Password Validation Write a program that repeatedly asks the user for a password. The program should keep asking until the user enters a password that meets the following criteria:\n",
    "\n",
    "#Contains at least 8 characters Contains at least one uppercase letter Contains at least one lowercase letter Contains at least one digit"
   ]
  },
  {
   "cell_type": "code",
   "execution_count": 11,
   "id": "d3f0b560-2b00-4ffd-9f36-0b6a50838c6c",
   "metadata": {},
   "outputs": [],
   "source": [
    "import re"
   ]
  },
  {
   "cell_type": "code",
   "execution_count": 20,
   "id": "1ddd5f91-7869-4ee0-ac1b-0632786f3a14",
   "metadata": {},
   "outputs": [
    {
     "name": "stdin",
     "output_type": "stream",
     "text": [
      "enter a password: 12345678\n"
     ]
    },
    {
     "name": "stdout",
     "output_type": "stream",
     "text": [
      "Password must Contains at least 8 characters ,one uppercase letter,  one lowercase letter, one digit!\n"
     ]
    },
    {
     "name": "stdin",
     "output_type": "stream",
     "text": [
      "enter a password: Tannu@123\n"
     ]
    },
    {
     "name": "stdout",
     "output_type": "stream",
     "text": [
      "Password is valid!\n"
     ]
    }
   ],
   "source": [
    "while True:\n",
    "    password=input('enter a password:')\n",
    "    if (len(password)>=8\n",
    "        and any(char.isupper() for char in password)\n",
    "        and any(char.islower() for char in password)\n",
    "        and any (char.isdigit() for char in password)):\n",
    "        print('Password is valid!')\n",
    "        break\n",
    "    else:\n",
    "        print('Password must Contains at least 8 characters ,one uppercase letter,  one lowercase letter, one digit!')"
   ]
  },
  {
   "cell_type": "code",
   "execution_count": null,
   "id": "c16da0fd-ac70-47ff-a96d-9f4fb4f9a1e5",
   "metadata": {},
   "outputs": [],
   "source": []
  }
 ],
 "metadata": {
  "kernelspec": {
   "display_name": "Python 3 (ipykernel)",
   "language": "python",
   "name": "python3"
  },
  "language_info": {
   "codemirror_mode": {
    "name": "ipython",
    "version": 3
   },
   "file_extension": ".py",
   "mimetype": "text/x-python",
   "name": "python",
   "nbconvert_exporter": "python",
   "pygments_lexer": "ipython3",
   "version": "3.11.2"
  }
 },
 "nbformat": 4,
 "nbformat_minor": 5
}
